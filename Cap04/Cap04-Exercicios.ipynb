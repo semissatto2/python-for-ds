{
 "cells": [
  {
   "cell_type": "code",
   "execution_count": 4,
   "metadata": {},
   "outputs": [
    {
     "data": {
      "text/plain": [
       "[1, 8, 27]"
      ]
     },
     "execution_count": 4,
     "metadata": {},
     "output_type": "execute_result"
    }
   ],
   "source": [
    "# Exercício 1 - Crie uma lista de 3 elementos e calcule a terceira potência de cada elemento.\n",
    "list(map(lambda x: x**3,[1, 2, 3]))"
   ]
  },
  {
   "cell_type": "code",
   "execution_count": 5,
   "metadata": {},
   "outputs": [
    {
     "name": "stdout",
     "output_type": "stream",
     "text": [
      "['A', 'a', '1']\n",
      "['DATA', 'data', '4']\n",
      "['SCIENCE', 'science', '7']\n",
      "['ACADEMY', 'academy', '7']\n",
      "['OFERCE', 'oferce', '6']\n",
      "['OS', 'os', '2']\n",
      "['MELHORES', 'melhores', '8']\n",
      "['CURSOS', 'cursos', '6']\n",
      "['DE', 'de', '2']\n",
      "['ANÁLISE', 'análise', '7']\n",
      "['DE', 'de', '2']\n",
      "['DADOS', 'dados', '5']\n",
      "['DO', 'do', '2']\n",
      "['BRASIL', 'brasil', '6']\n"
     ]
    }
   ],
   "source": [
    "# Exercício 2 - Reescreva o código abaixo, usando a função map(). O resultado final deve ser o mesmo!\n",
    "def upper(string):\n",
    "    return string.upper()\n",
    "\n",
    "def lower(string):\n",
    "    return string.lower()\n",
    "\n",
    "def length(string):\n",
    "    return str(len(string))\n",
    "\n",
    "palavras = 'A Data Science Academy oferce os melhores cursos de análise de dados do Brasil'.split()\n",
    "resultado = map(lambda out: [upper(out), lower(out), length(out)], palavras)\n",
    "\n",
    "for i in resultado:\n",
    "    print (i)\n"
   ]
  },
  {
   "cell_type": "code",
   "execution_count": 31,
   "metadata": {},
   "outputs": [
    {
     "data": {
      "text/plain": [
       "[[1, 3, 5, 7], [2, 4, 6, 8]]"
      ]
     },
     "execution_count": 31,
     "metadata": {},
     "output_type": "execute_result"
    }
   ],
   "source": [
    "# Exercício 3 - Calcule a matriz transposta da matriz abaixo.\n",
    "# Caso não saiba o que é matriz transposta, visite este link: https://pt.wikipedia.org/wiki/Matriz_transposta\n",
    "# Matriz transposta é um conceito fundamental na construção de redes neurais artificiais, base de sistemas de IA.\n",
    "matrix = [[1, 2],[3,4],[5,6],[7,8]]\n",
    "\n",
    "def matrizTransposta(matrix):   \n",
    "    # Cria estrutura para armazenar matriz transposta\n",
    "    resultado = []\n",
    "    for i in range(len(matrix[0])):\n",
    "        resultado.append([])\n",
    "        \n",
    "    # Preenche matriz com cada elemento transformando linha em coluna\n",
    "    for linha in matrix:    \n",
    "        for coluna in range(numero_colunas):\n",
    "            resultado[coluna].append(linha[coluna])\n",
    "    # Retorna matriz transposta\n",
    "    return (resultado)\n",
    "\n",
    "matrizTransposta(matrix)"
   ]
  },
  {
   "cell_type": "code",
   "execution_count": 41,
   "metadata": {},
   "outputs": [
    {
     "name": "stdout",
     "output_type": "stream",
     "text": [
      "[0, 0]\n",
      "[1, 1]\n",
      "[4, 8]\n",
      "[9, 27]\n",
      "[16, 64]\n"
     ]
    }
   ],
   "source": [
    "# Exercício 4 - Crie duas funções, uma para elevar um número ao quadrado e outra para elevar ao cubo. \n",
    "# Aplique as duas funções aos elementos da lista abaixo. \n",
    "# Obs: as duas funções devem ser aplicadas simultaneamente.\n",
    "lista = [0, 1, 2, 3, 4]\n",
    "\n",
    "def quadrado(n):\n",
    "    return n**2\n",
    "\n",
    "def cubo(n):\n",
    "    return n**3\n",
    "\n",
    "resultado = map(lambda out: [quadrado(out), cubo(out)], lista)\n",
    "\n",
    "for i in resultado:\n",
    "    print (i)"
   ]
  },
  {
   "cell_type": "code",
   "execution_count": 7,
   "metadata": {},
   "outputs": [
    {
     "name": "stdout",
     "output_type": "stream",
     "text": [
      "[1024, 177147, 16777216]\n",
      "[1024, 177147, 16777216]\n"
     ]
    }
   ],
   "source": [
    "# Exercício 5 - Abaixo você encontra duas listas. Faça com que cada elemento da listaA seja elevado \n",
    "# ao elemento correspondente na listaB.\n",
    "listaA = [2, 3, 4]\n",
    "listaB = [10, 11, 12]\n",
    "\n",
    "resultado = []\n",
    "for i in range(len(listaA)):\n",
    "    resultado.append(listaA[i]**listaB[i])\n",
    "print (resultado)\n",
    "\n",
    "# Ou, de outra forma mais elegante\n",
    "resultado = list(map(pow, listaA, listaB))\n",
    "print (resultado)"
   ]
  },
  {
   "cell_type": "code",
   "execution_count": 13,
   "metadata": {},
   "outputs": [
    {
     "name": "stdout",
     "output_type": "stream",
     "text": [
      "-5\n",
      "-4\n",
      "-3\n",
      "-2\n",
      "-1\n"
     ]
    }
   ],
   "source": [
    "# Exercício 6 - Considerando o range de valores abaixo, use a função filter() para retornar apenas os valores negativos.\n",
    "range(-5, 5)\n",
    "    \n",
    "negativos = filter(lambda num: num < 0, range(-5, 5))\n",
    "\n",
    "for item in negativos:\n",
    "    print (item)"
   ]
  },
  {
   "cell_type": "code",
   "execution_count": 37,
   "metadata": {},
   "outputs": [
    {
     "data": {
      "text/plain": [
       "[2, 3, 5, 7, 10]"
      ]
     },
     "execution_count": 37,
     "metadata": {},
     "output_type": "execute_result"
    }
   ],
   "source": [
    "# Exercício 7 - Usando a função filter(), encontre os valores que são comuns às duas listas abaixo.\n",
    "a = [1,2,3,5,7,9,10]\n",
    "b = [2,3,5,6,7,8,10]\n",
    "\n",
    "list(filter(lambda num: num in b, a))"
   ]
  },
  {
   "cell_type": "code",
   "execution_count": 35,
   "metadata": {},
   "outputs": [
    {
     "name": "stdout",
     "output_type": "stream",
     "text": [
      "False\n",
      "True\n"
     ]
    }
   ],
   "source": [
    "# Fica a dica o comando 'in' \n",
    "lista = [1,2,3]\n",
    "print(4 in lista)\n",
    "print(1 in lista)"
   ]
  },
  {
   "cell_type": "code",
   "execution_count": 69,
   "metadata": {},
   "outputs": [
    {
     "name": "stdout",
     "output_type": "stream",
     "text": [
      "28/02/2019 21:02\n",
      "28/02/2019 21:02\n"
     ]
    }
   ],
   "source": [
    "# Exercício 8 - Considere o código abaixo. Obtenha o mesmo resultado usando o pacote time. \n",
    "# Não conhece o pacote time? Pesquise!\n",
    "import datetime\n",
    "import time\n",
    "print (datetime.datetime.now().strftime(\"%d/%m/%Y %H:%M\"))\n",
    "print (time.strftime(\"%d/%m/%Y %H:%M\"))"
   ]
  },
  {
   "cell_type": "code",
   "execution_count": 94,
   "metadata": {},
   "outputs": [
    {
     "name": "stdout",
     "output_type": "stream",
     "text": [
      "{'a': 4, 'b': 5}\n"
     ]
    }
   ],
   "source": [
    "# Exercício 9 - Considere os dois dicionários abaixo. \n",
    "# Crie um terceiro dicionário com as chaves do dicionário 1 e os valores do dicionário 2.\n",
    "dict1 = {'a':1,'b':2}\n",
    "dict2 = {'c':4,'d':5}\n",
    "dict1_keys = []\n",
    "dict2_values = []\n",
    "dict3 = {}\n",
    "\n",
    "# Obtém chaves de dict1\n",
    "for k in dict1.keys():\n",
    "    dict1_keys.append(k)\n",
    "# Obtém chaves de dict2    \n",
    "for v in dict2.values():\n",
    "    dict2_values.append(v)\n",
    "# Atualiza dict3\n",
    "for i in range(len(dict1_keys)):\n",
    "    dict3.update({dict1_keys[i] : dict2_values[i]})\n",
    "    \n",
    "print (dict3)"
   ]
  },
  {
   "cell_type": "code",
   "execution_count": 109,
   "metadata": {},
   "outputs": [
    {
     "name": "stdout",
     "output_type": "stream",
     "text": [
      "g\n",
      "h\n"
     ]
    }
   ],
   "source": [
    "# Exercício 10 - Considere a lista abaixo e retorne apenas os elementos cujo índice for maior que 5.\n",
    "lista = ['a', 'b', 'c', 'd', 'e', 'f', 'g', 'h']\n",
    "\n",
    "for index, elemento in enumerate(lista):\n",
    "    if index > 5:\n",
    "        print (elemento)"
   ]
  },
  {
   "cell_type": "code",
   "execution_count": null,
   "metadata": {},
   "outputs": [],
   "source": []
  }
 ],
 "metadata": {
  "kernelspec": {
   "display_name": "Python 3",
   "language": "python",
   "name": "python3"
  },
  "language_info": {
   "codemirror_mode": {
    "name": "ipython",
    "version": 3
   },
   "file_extension": ".py",
   "mimetype": "text/x-python",
   "name": "python",
   "nbconvert_exporter": "python",
   "pygments_lexer": "ipython3",
   "version": "3.7.1"
  }
 },
 "nbformat": 4,
 "nbformat_minor": 2
}
