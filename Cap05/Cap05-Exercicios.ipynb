{
 "cells": [
  {
   "cell_type": "code",
   "execution_count": 2,
   "metadata": {},
   "outputs": [],
   "source": [
    "# Exercício 1 - Crie um objeto a partir da classe abaixo, chamado roc1, passando 2 parâmetros e depois faça uma chamada\n",
    "# aos atributos e métodos\n",
    "from math import sqrt\n",
    "\n",
    "class Rocket():\n",
    "     \n",
    "    def __init__(self, x=0, y=0):\n",
    "        self.x = x\n",
    "        self.y = y\n",
    "        \n",
    "    def move_rocket(self, x_increment=0, y_increment=1):\n",
    "        self.x += x_increment\n",
    "        self.y += y_increment\n",
    "        \n",
    "    def print_rocket(self):\n",
    "        print(self.x, self.y)"
   ]
  },
  {
   "cell_type": "code",
   "execution_count": 9,
   "metadata": {},
   "outputs": [
    {
     "name": "stdout",
     "output_type": "stream",
     "text": [
      "100\n",
      "150\n",
      "150 200\n"
     ]
    }
   ],
   "source": [
    "Roc1 = Rocket(x = 100, y = 150)\n",
    "print (Roc1.x)\n",
    "print (Roc1.y)\n",
    "Roc1.move_rocket(50,50)\n",
    "Roc1.print_rocket()"
   ]
  },
  {
   "cell_type": "code",
   "execution_count": 11,
   "metadata": {},
   "outputs": [],
   "source": [
    "# Exercício 2 - Crie uma classe chamada Pessoa() com os atributos: nome, cidade, telefone e e-mail. Use pelo menos 2\n",
    "# métodos especiais na sua classe. Crie um objeto da sua classe e faça uma chamada a pelo menos um dos seus métodos\n",
    "# especiais.\n",
    "\n",
    "class Pessoa():\n",
    "    \n",
    "    def __init__(self, nome = \"nome\", cidade = \"cidade\", email = \"email\"):\n",
    "        self.nome = nome\n",
    "        self.cidade = cidade\n",
    "        self.email = email\n",
    "        \n",
    "    def __str__(self):\n",
    "        return (\"nome: %s, cidade: %s, email: %s\" %(self.nome, self.cidade, self.email))\n",
    "    \n",
    "    def __dir__(self):\n",
    "        return ([\"__init__\", \"__str__\", \"__dir__\"])\n",
    "        "
   ]
  },
  {
   "cell_type": "code",
   "execution_count": 15,
   "metadata": {},
   "outputs": [
    {
     "name": "stdout",
     "output_type": "stream",
     "text": [
      "nome: Barbara, cidade: Campinas, email: bla@gmail.com\n"
     ]
    },
    {
     "data": {
      "text/plain": [
       "['__dir__', '__init__', '__str__']"
      ]
     },
     "execution_count": 15,
     "metadata": {},
     "output_type": "execute_result"
    }
   ],
   "source": [
    "Pessoa1 = Pessoa(nome = \"Barbara\", cidade = \"Campinas\", email = \"bla@gmail.com\")\n",
    "print (Pessoa1)\n",
    "dir (Pessoa1)"
   ]
  },
  {
   "cell_type": "code",
   "execution_count": 32,
   "metadata": {},
   "outputs": [
    {
     "name": "stdout",
     "output_type": "stream",
     "text": [
      "Smartphone criado\n",
      "\n",
      "MP3Player criado\n",
      "\n",
      "Smartphone criado\n",
      "\n"
     ]
    }
   ],
   "source": [
    "# Exercício 3 - Crie a classe Smartphone com 2 atributos, tamanho e interface e crie a classe MP3Player com os \n",
    "# atributos capacidade. A classe MP3player deve herdar os atributos da classe Smartphone.\n",
    "\n",
    "class Smartphone():\n",
    "    \n",
    "    def __init__(self, tamanho = \"tamanho\", interface = \"interface\"):\n",
    "        self.tamanho = tamanho\n",
    "        self.interface = interface\n",
    "        print (\"Smartphone criado\\n\")\n",
    "        \n",
    "class MP3Player(Smartphone):    \n",
    "    \n",
    "    def __init__(self, capacidade = \"1\"):\n",
    "        Smartphone.__init__(self)\n",
    "        self.capacidade = capacidade\n",
    "        print (\"MP3Player criado\\n\")\n",
    "        \n",
    "Aparelho1 = MP3Player(capacidade = 100)        \n",
    "Aparelho2 = Smartphone(tamanho = 3, interface = \"Windows\")"
   ]
  },
  {
   "cell_type": "code",
   "execution_count": 35,
   "metadata": {},
   "outputs": [
    {
     "name": "stdout",
     "output_type": "stream",
     "text": [
      "100\n",
      "Windows\n"
     ]
    }
   ],
   "source": [
    "print (Aparelho1.capacidade)\n",
    "print (Aparelho2.interface)"
   ]
  }
 ],
 "metadata": {
  "kernelspec": {
   "display_name": "Python 3",
   "language": "python",
   "name": "python3"
  },
  "language_info": {
   "codemirror_mode": {
    "name": "ipython",
    "version": 3
   },
   "file_extension": ".py",
   "mimetype": "text/x-python",
   "name": "python",
   "nbconvert_exporter": "python",
   "pygments_lexer": "ipython3",
   "version": "3.7.1"
  }
 },
 "nbformat": 4,
 "nbformat_minor": 2
}
