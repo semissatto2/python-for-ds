{
 "cells": [
  {
   "cell_type": "markdown",
   "metadata": {},
   "source": [
    "# Solutions for Chap 02 exercises - Data Science Academy\n",
    "# Author: Guilherme Teixeira Semissatto\n",
    "# 09/feb/2018"
   ]
  },
  {
   "cell_type": "code",
   "execution_count": null,
   "metadata": {},
   "outputs": [],
   "source": [
    "# Exercício 1 - Imprima na tela os números de 1 a 10. Use uma lista para armazenar os números."
   ]
  },
  {
   "cell_type": "code",
   "execution_count": null,
   "metadata": {},
   "outputs": [],
   "source": [
    "list = [1, 2, 3, 4, 5, 6, 7, 8, 9, 10]\n",
    "for item in list:\n",
    "    print (item)"
   ]
  },
  {
   "cell_type": "code",
   "execution_count": null,
   "metadata": {},
   "outputs": [],
   "source": [
    "# Exercício 2 - Crie uma lista de 5 objetos e imprima na tela"
   ]
  },
  {
   "cell_type": "code",
   "execution_count": null,
   "metadata": {},
   "outputs": [],
   "source": [
    "list_of_objects = [\"apple\", \"banana\", \"orange\", \"watermelon\", \"grape\"]\n",
    "for item in list_of_objects:\n",
    "    print (item)"
   ]
  },
  {
   "cell_type": "code",
   "execution_count": null,
   "metadata": {},
   "outputs": [],
   "source": [
    "# Exercício 3 - Crie duas strings e concatene as duas em uma terceira string"
   ]
  },
  {
   "cell_type": "code",
   "execution_count": null,
   "metadata": {},
   "outputs": [],
   "source": [
    "first_name    = \"Guilherme \"\n",
    "last_name     = \"Semissatto\"\n",
    "full_name     = first_name + last_name\n",
    "print (full_name)"
   ]
  },
  {
   "cell_type": "code",
   "execution_count": null,
   "metadata": {},
   "outputs": [],
   "source": [
    "# Exercício 4 - Crie uma tupla com os seguintes elementos: 1, 2, 2, 3, 4, 4, 4, 5 e depois utilize a função count do \n",
    "# objeto tupla para verificar quantas vezes o número 4 aparece na tupla"
   ]
  },
  {
   "cell_type": "code",
   "execution_count": null,
   "metadata": {},
   "outputs": [],
   "source": [
    "elements = (1, 2, 2, 3, 4, 4, 4, 5)\n",
    "elements.count(4)"
   ]
  },
  {
   "cell_type": "code",
   "execution_count": null,
   "metadata": {},
   "outputs": [],
   "source": [
    "# Exercício 5 - Crie um dicionário vazio e imprima na tela"
   ]
  },
  {
   "cell_type": "code",
   "execution_count": null,
   "metadata": {},
   "outputs": [],
   "source": [
    "dic0 = {}\n",
    "print (dic0)"
   ]
  },
  {
   "cell_type": "code",
   "execution_count": null,
   "metadata": {},
   "outputs": [],
   "source": [
    "# Exercício 6 - Crie um dicionário com 3 chaves e 3 valores e imprima na tela"
   ]
  },
  {
   "cell_type": "code",
   "execution_count": null,
   "metadata": {},
   "outputs": [],
   "source": [
    "names_and_ages = {\"Guilherme\":24, \"Diego\":23, \"Felipe\":21}\n",
    "print (names_and_ages)"
   ]
  },
  {
   "cell_type": "code",
   "execution_count": null,
   "metadata": {},
   "outputs": [],
   "source": [
    "# Exercício 7 - Adicione mais um elemento ao dicionário criado no exercício anterior e imprima na tela\n",
    "aux_dic = {\"Eidy\":53}\n",
    "names_and_ages.update(aux_dic)\n",
    "print (names_and_ages)\n",
    "names_and_ages[\"Wilson\"] = 57\n",
    "print (names_and_ages)"
   ]
  },
  {
   "cell_type": "code",
   "execution_count": null,
   "metadata": {},
   "outputs": [],
   "source": [
    "# Exercício 7 - Adicione mais um elemento ao dicionário criado no exercício anterior e imprima na tela\n",
    "names_and_ages[\"Wilson\"]"
   ]
  },
  {
   "cell_type": "code",
   "execution_count": null,
   "metadata": {},
   "outputs": [],
   "source": [
    "# Exercício 8 - Crie um dicionário com 3 chaves e 3 valores. Um dos valores deve ser uma lista de 2 elementos numéricos. \n",
    "# Imprima o dicionário na tela."
   ]
  },
  {
   "cell_type": "code",
   "execution_count": null,
   "metadata": {},
   "outputs": [],
   "source": [
    "name_ages_and_heights = {\"Guilherme\":[24, 1.71], \"Diego\":23, \"Felipe\":21}\n",
    "print (name_ages_and_heights)"
   ]
  },
  {
   "cell_type": "code",
   "execution_count": null,
   "metadata": {},
   "outputs": [],
   "source": [
    "# Exercício 9 - Crie uma lista de 4 elementos. O primeiro elemento deve ser uma string, \n",
    "# o segundo uma tupla de 2 elementos, o terceiro um dcionário com 2 chaves e 2 valores e \n",
    "# o quarto elemento um valor do tipo float.\n",
    "# Imprima a lista na tela."
   ]
  },
  {
   "cell_type": "code",
   "execution_count": null,
   "metadata": {},
   "outputs": [],
   "source": [
    "list2 = [\"Guilherme\", (24, 1.71), {\"Idade\":24, \"Altura\": 1.71}, 12.34]\n",
    "print (list2)"
   ]
  },
  {
   "cell_type": "code",
   "execution_count": null,
   "metadata": {},
   "outputs": [],
   "source": [
    "# Exercício 10 - Considere a string abaixo. Imprima na tela apenas os caracteres da posição 1 a 18.\n",
    "frase = 'Cientista de Dados é o profissional mais sexy do século XXI'"
   ]
  },
  {
   "cell_type": "code",
   "execution_count": null,
   "metadata": {},
   "outputs": [],
   "source": [
    "print (frase[0:18])"
   ]
  }
 ],
 "metadata": {
  "kernelspec": {
   "display_name": "Python 3",
   "language": "python",
   "name": "python3"
  },
  "language_info": {
   "codemirror_mode": {
    "name": "ipython",
    "version": 3
   },
   "file_extension": ".py",
   "mimetype": "text/x-python",
   "name": "python",
   "nbconvert_exporter": "python",
   "pygments_lexer": "ipython3",
   "version": "3.7.1"
  }
 },
 "nbformat": 4,
 "nbformat_minor": 2
}
