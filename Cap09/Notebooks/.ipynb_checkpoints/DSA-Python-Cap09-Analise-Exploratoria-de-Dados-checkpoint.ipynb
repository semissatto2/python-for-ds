{
 "cells": [
  {
   "cell_type": "markdown",
   "metadata": {},
   "source": [
    "# <font color='blue'>Data Science Academy - Python Fundamentos - Capítulo 9</font>\n",
    "\n",
    "## Download: http://github.com/dsacademybr"
   ]
  },
  {
   "cell_type": "markdown",
   "metadata": {},
   "source": [
    "# Análise Exploratória de Dados"
   ]
  },
  {
   "cell_type": "markdown",
   "metadata": {},
   "source": [
    "### Neste notebook usaremos uma pesquisa recente nos EUA sobre o mercado de trabalho para programadores de software. Nosso objetivo é fazer uma investigação inicial dos dados a fim de detectar problemas com os dados, necessidade de mais variáveis, falhas na organização e necessidades de transformação."
   ]
  },
  {
   "cell_type": "markdown",
   "metadata": {},
   "source": [
    "### Pesquisa Salarial realizada pelo site https://www.freecodecamp.com/ com programadores de software nos EUA que frequentaram treinamentos Bootcamp."
   ]
  },
  {
   "cell_type": "code",
   "execution_count": null,
   "metadata": {},
   "outputs": [],
   "source": [
    "# Importando os pacotes \n",
    "import numpy as np\n",
    "import matplotlib.pyplot as plt\n",
    "import pandas as pd\n",
    "import colorsys\n",
    "plt.style.use('seaborn-talk')\n",
    "import warnings\n",
    "warnings.filterwarnings(\"ignore\")\n",
    "%matplotlib inline"
   ]
  },
  {
   "cell_type": "code",
   "execution_count": null,
   "metadata": {},
   "outputs": [],
   "source": [
    "# Carregando o dataset\n",
    "df = pd.read_csv(\"Dados-Pesquisa.csv\", sep = ',', low_memory=False)"
   ]
  },
  {
   "cell_type": "code",
   "execution_count": null,
   "metadata": {},
   "outputs": [],
   "source": [
    "print(df.head())"
   ]
  },
  {
   "cell_type": "code",
   "execution_count": null,
   "metadata": {},
   "outputs": [],
   "source": [
    "df"
   ]
  },
  {
   "cell_type": "code",
   "execution_count": null,
   "metadata": {},
   "outputs": [],
   "source": [
    "print(df.describe())"
   ]
  },
  {
   "cell_type": "code",
   "execution_count": null,
   "metadata": {},
   "outputs": [],
   "source": [
    "# Lista todas as colunas\n",
    "list(df)"
   ]
  },
  {
   "cell_type": "markdown",
   "metadata": {},
   "source": [
    "## Distribuição de Idade"
   ]
  },
  {
   "cell_type": "code",
   "execution_count": null,
   "metadata": {},
   "outputs": [],
   "source": [
    "# Qual a distribuição de idade dos participantes da pesquisa?\n",
    "# A maioria dos profissionais que trabalham como programadores de \n",
    "# software estão na faixa de idade entre 20 e 30 anos, sendo 25 anos \n",
    "# a idade mais frequente.\n",
    "\n",
    "# Gerando um histograma\n",
    "df.Age.hist(bins = 60)\n",
    "plt.xlabel(\"Idade\")\n",
    "plt.ylabel(\"Número de Profissionais\")\n",
    "plt.title(\"Distribuição de Idade\")\n",
    "plt.show()"
   ]
  },
  {
   "cell_type": "markdown",
   "metadata": {},
   "source": [
    "## Distribuição de Sexo"
   ]
  },
  {
   "cell_type": "code",
   "execution_count": null,
   "metadata": {},
   "outputs": [],
   "source": [
    "# Qual é a distribuição de sexo dos participantes da pesquisa?\n",
    "# A grande maioria dos programadores é do sexo masculino\n",
    "\n",
    "# Definindo a quantidade\n",
    "labels = df.Gender.value_counts().index\n",
    "num = len(df.EmploymentField.value_counts().index)\n",
    "\n",
    "# Criando a lista de cores\n",
    "listaHSV = [(x*1.0/num, 0.5, 0.5) for x in range(num)]\n",
    "listaRGB = list(map(lambda x: colorsys.hsv_to_rgb(*x), listaHSV))\n",
    "\n",
    "# Gráfico de Pizza\n",
    "fatias, texto = plt.pie(df.Gender.value_counts(), colors = listaRGB, startangle = 90)\n",
    "plt.axes().set_aspect('equal', 'datalim')\n",
    "plt.legend(fatias, labels, bbox_to_anchor = (1.05,1))\n",
    "plt.title(\"Sexo\")\n",
    "plt.show()"
   ]
  },
  {
   "cell_type": "markdown",
   "metadata": {},
   "source": [
    "## Distribuição de Interesses"
   ]
  },
  {
   "cell_type": "code",
   "execution_count": null,
   "metadata": {},
   "outputs": [],
   "source": [
    "# Quais sãos os principais interesses dos participantes da pesquisa?\n",
    "# O principal interesse profissional dos programadores é o desenvolvimento web (Full-Stack, Front-End e Back-End), \n",
    "# seguido pela área de Data Science.\n",
    "\n",
    "# Definindo a quantidade\n",
    "num = len(df.JobRoleInterest.value_counts().index)\n",
    "\n",
    "# Criando a lista de cores\n",
    "listaHSV = [(x*1.0/num, 0.5, 0.5) for x in range(num)]\n",
    "listaRGB = list(map(lambda x: colorsys.hsv_to_rgb(*x), listaHSV))\n",
    "labels = df.JobRoleInterest.value_counts().index\n",
    "colors = ['OliveDrab', 'Orange', 'OrangeRed', 'DarkCyan', 'Salmon', 'Sienna', 'Maroon', 'LightSlateGrey', 'DimGray']\n",
    "\n",
    "# Gráfico de Pizza\n",
    "fatias, texto = plt.pie(df.JobRoleInterest.value_counts(), colors = listaRGB, startangle = 90)\n",
    "plt.axes().set_aspect('equal', 'datalim')\n",
    "plt.legend(fatias, labels, bbox_to_anchor = (1.25, 1))\n",
    "plt.title(\"Interesse Profissional\")\n",
    "plt.show()"
   ]
  },
  {
   "cell_type": "markdown",
   "metadata": {},
   "source": [
    "## Distribuição de Empregabilidade"
   ]
  },
  {
   "cell_type": "code",
   "execution_count": null,
   "metadata": {},
   "outputs": [],
   "source": [
    "# Quais as áreas de negócio em que os participantes da pesquisa trabalham?\n",
    "# A maioria dos programadores trabalha na área de desenvolvimento de \n",
    "# softwares e TI, mas outras áreas como finanças e saúde também são \n",
    "# significativas.\n",
    "\n",
    "# Definindo a quantidade\n",
    "num = len(df.EmploymentField.value_counts().index)\n",
    "\n",
    "# Criando a lista de cores\n",
    "listaHSV = [(x*1.0/num, 0.5, 0.5) for x in range(num)]\n",
    "listaRGB = list(map(lambda x: colorsys.hsv_to_rgb(*x), listaHSV))\n",
    "labels = df.EmploymentField.value_counts().index\n",
    "\n",
    "# Gráfico de Pizza\n",
    "fatias, texto = plt.pie(df.EmploymentField.value_counts(), colors = listaRGB, startangle = 90)\n",
    "plt.axes().set_aspect('equal', 'datalim')\n",
    "plt.legend(fatias, labels, bbox_to_anchor = (1.3, 1))\n",
    "plt.title(\"Área de trabalho Atual\")\n",
    "plt.show()"
   ]
  },
  {
   "cell_type": "markdown",
   "metadata": {
    "collapsed": true
   },
   "source": [
    "## Preferências de Trabalho por Idade"
   ]
  },
  {
   "cell_type": "code",
   "execution_count": null,
   "metadata": {},
   "outputs": [],
   "source": [
    "# Quais são as preferências de trabalho por idade?\n",
    "# Perceba que à medida que a idade aumenta, o interesse por trabalho \n",
    "# freelance também aumenta, sendo o modelo preferido por profissionais \n",
    "# acima de 60 anos. Profissionais mais jovens preferem trabalhar em \n",
    "# Startups ou no seu próprio negócio. Profissionais entre 20 e 50 anos \n",
    "# preferem trabalhar em empresas de tamanho médio.\n",
    "\n",
    "# Agrupando os dados\n",
    "df_ageranges = df.copy()\n",
    "bins=[0, 20, 30, 40, 50, 60, 100]\n",
    "\n",
    "df_ageranges['AgeRanges'] = pd.cut(df_ageranges['Age'], \n",
    "                                   bins, \n",
    "                                   labels=[\"< 20\", \"20-30\", \"30-40\", \"40-50\", \"50-60\", \"< 60\"]) \n",
    "\n",
    "df2 = pd.crosstab(df_ageranges.AgeRanges, \n",
    "                  df_ageranges.JobPref).apply(lambda r: r/r.sum(), axis=1)\n",
    "\n",
    "# Definindo a quantidade\n",
    "num = len(df_ageranges.AgeRanges.value_counts().index)\n",
    "\n",
    "# Criando a lista de cores\n",
    "listaHSV = [(x*1.0/num, 0.5, 0.5) for x in range(num)]\n",
    "listaRGB = list(map(lambda x: colorsys.hsv_to_rgb(*x), listaHSV))\n",
    "\n",
    "# Gráfico de Barras (Stacked)\n",
    "ax1 = df2.plot(kind = \"bar\", stacked = True, color = listaRGB, title = \"Preferência de Trabalho por Idade\")\n",
    "lines, labels = ax1.get_legend_handles_labels()\n",
    "ax1.legend(lines, labels, bbox_to_anchor = (1.51, 1))"
   ]
  },
  {
   "cell_type": "code",
   "execution_count": null,
   "metadata": {},
   "outputs": [],
   "source": [
    "# Visualizando o help\n",
    "help(pd.crosstab)"
   ]
  },
  {
   "cell_type": "markdown",
   "metadata": {
    "collapsed": true
   },
   "source": [
    "## Realocação por Idade"
   ]
  },
  {
   "cell_type": "code",
   "execution_count": null,
   "metadata": {},
   "outputs": [],
   "source": [
    "# Qual o objetivo de realocação?\n",
    "# A vontade de buscar um novo emprego diminui com a idade. \n",
    "# Quase 80% das pessoas abaixo dos 30 anos estão preparadas para isso.\n",
    "\n",
    "# Agrupando os dados\n",
    "df3 = pd.crosstab(df_ageranges.AgeRanges, \n",
    "                  df_ageranges.JobRelocateYesNo).apply(lambda r: r/r.sum(), axis = 1)\n",
    "\n",
    "# Definindo a quantidade\n",
    "num = len(df_ageranges.AgeRanges.value_counts().index)\n",
    "\n",
    "# Criando a lista de cores\n",
    "listaHSV = [(x*1.0/num, 0.5, 0.5) for x in range(num)]\n",
    "listaRGB = list(map(lambda x: colorsys.hsv_to_rgb(*x), listaHSV))\n",
    "\n",
    "# Gráfico de Barras (Stacked)\n",
    "ax1 = df3.plot(kind = \"bar\", stacked = True, color = listaRGB, title = \"Realocação por Idade\")\n",
    "lines, labels = ax1.get_legend_handles_labels()\n",
    "ax1.legend(lines,[\"Não\", \"Sim\"], loc = 'best')"
   ]
  },
  {
   "cell_type": "markdown",
   "metadata": {},
   "source": [
    "## Idade x Horas de Aprendizagem"
   ]
  },
  {
   "cell_type": "code",
   "execution_count": null,
   "metadata": {},
   "outputs": [],
   "source": [
    "# Qual a relação entre idade e horas de aprendizagem?\n",
    "# A idade dos profissionais não afeta a quantidade de tempo gasto com capacitação e treinamento.\n",
    "\n",
    "import warnings\n",
    "warnings.filterwarnings('ignore')\n",
    "\n",
    "# Criando subset dos dados\n",
    "df9 = df.copy()\n",
    "df9 = df9.dropna(subset=[\"HoursLearning\"])\n",
    "df9 = df9[df['Age'].isin(range(0,70))]\n",
    "\n",
    "# Definindo os valores de x e y\n",
    "x = df9.Age\n",
    "y = df9.HoursLearning\n",
    "\n",
    "# Computando os valores e gerando o gráfico\n",
    "m, b = np.polyfit(x, y, 1)\n",
    "plt.plot(x, y, '.')\n",
    "plt.plot(x, m*x + b, '-', color = \"red\")\n",
    "plt.xlabel(\"Idade\")\n",
    "plt.ylabel(\"Horas de Treinamento\")\n",
    "plt.title(\"Idade por Horas de Treinamento\")\n",
    "plt.show()"
   ]
  },
  {
   "cell_type": "markdown",
   "metadata": {},
   "source": [
    "## Investimento em Capacitação x Expectativa Salarial"
   ]
  },
  {
   "cell_type": "code",
   "execution_count": null,
   "metadata": {},
   "outputs": [],
   "source": [
    "# Qual a relação entre investimento em capacitação e expectativa salarial?\n",
    "# Os profissionais que investem tempo e dinheiro em capacitação e \n",
    "# treinamento, em geral, conseguem salários mais altos, embora alguns \n",
    "# profisisonais esperem altos salários, investindo 0 em treinamento.\n",
    "\n",
    "import warnings\n",
    "warnings.filterwarnings('ignore')\n",
    "\n",
    "# Criando subset dos dados\n",
    "df5 = df.copy()\n",
    "df5 = df5.dropna(subset=[\"ExpectedEarning\"])\n",
    "df5 = df5[df['MoneyForLearning'].isin(range(0,60000))]\n",
    "\n",
    "# Definindo os valores de x e y\n",
    "x = df5.MoneyForLearning\n",
    "y = df5.ExpectedEarning\n",
    "\n",
    "# Computando os valores e gerando o gráfico\n",
    "m, b = np.polyfit(x, y, 1)\n",
    "plt.plot(x, y, '.')\n",
    "plt.plot(x, m*x + b, '-', color = \"red\")\n",
    "plt.xlabel(\"Investimento em Treinamento\")\n",
    "plt.ylabel(\"Expectativa Salarial\")\n",
    "plt.title(\"Investimento em Treinamento vs Expectativa Salarial\")\n",
    "plt.show()"
   ]
  },
  {
   "cell_type": "markdown",
   "metadata": {},
   "source": [
    "Conheça a Formação Cientista de Dados, um programa completo, 100% online e 100% em português, com 340 horas, mais de 1.200 aulas em vídeos e 26 projetos, que vão ajudá-lo a se tornar um dos profissionais mais cobiçados do mercado de análise de dados. Clique no link abaixo, faça sua inscrição, comece hoje mesmo e aumente sua empregabilidade:\n",
    "\n",
    "https://www.datascienceacademy.com.br/pages/formacao-cientista-de-dados"
   ]
  },
  {
   "cell_type": "markdown",
   "metadata": {
    "collapsed": true
   },
   "source": [
    "# Fim"
   ]
  },
  {
   "cell_type": "markdown",
   "metadata": {
    "collapsed": true
   },
   "source": [
    "### Obrigado - Data Science Academy - <a href=\"http://facebook.com/dsacademybr\">facebook.com/dsacademybr</a>"
   ]
  }
 ],
 "metadata": {
  "kernelspec": {
   "display_name": "Python 3",
   "language": "python",
   "name": "python3"
  },
  "language_info": {
   "codemirror_mode": {
    "name": "ipython",
    "version": 3
   },
   "file_extension": ".py",
   "mimetype": "text/x-python",
   "name": "python",
   "nbconvert_exporter": "python",
   "pygments_lexer": "ipython3",
   "version": "3.7.1"
  }
 },
 "nbformat": 4,
 "nbformat_minor": 1
}
