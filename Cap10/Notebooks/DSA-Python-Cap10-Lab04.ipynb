{
 "cells": [
  {
   "cell_type": "markdown",
   "metadata": {},
   "source": [
    "# <font color='blue'>Data Science Academy - Python Fundamentos - Capítulo 10</font>\n",
    "\n",
    "## Download: http://github.com/dsacademybr"
   ]
  },
  {
   "cell_type": "markdown",
   "metadata": {},
   "source": [
    "# Lab 4 - Construindo um Modelo de Regressão Linear com TensorFlow"
   ]
  },
  {
   "cell_type": "markdown",
   "metadata": {},
   "source": [
    "Use como referência o Deep Learning Book: http://www.deeplearningbook.com.br/"
   ]
  },
  {
   "cell_type": "code",
   "execution_count": 1,
   "metadata": {},
   "outputs": [],
   "source": [
    "# Imports\n",
    "import tensorflow as tf\n",
    "import numpy as np\n",
    "import matplotlib.pyplot as plt\n",
    "%matplotlib inline"
   ]
  },
  {
   "cell_type": "markdown",
   "metadata": {},
   "source": [
    "## Definindo os hyperparâmetros do modelo"
   ]
  },
  {
   "cell_type": "code",
   "execution_count": 8,
   "metadata": {},
   "outputs": [],
   "source": [
    "# Hyperparâmetros do modelo\n",
    "learning_rate = 0.01\n",
    "training_epochs = 20000\n",
    "display_step = 200"
   ]
  },
  {
   "cell_type": "markdown",
   "metadata": {},
   "source": [
    "## Definindo os datasets de treino e de teste\n",
    "\n",
    "## Considere X como o tamanho de uma casa e y o preço de uma casa"
   ]
  },
  {
   "cell_type": "code",
   "execution_count": 9,
   "metadata": {},
   "outputs": [],
   "source": [
    "# Dataset de treino\n",
    "train_X = np.asarray([3.3,4.4,5.5,6.71,6.93,4.168,9.779,6.182,7.59,2.167,7.042,10.791,5.313,7.997,5.654,9.27,3.1])\n",
    "train_y = np.asarray([1.7,2.76,2.09,3.19,1.694,1.573,3.366,2.596,2.53,1.221,2.827,3.465,1.65,2.904,2.42,2.94,1.3])\n",
    "n_samples = train_X.shape[0]\n",
    " \n",
    "# Dataset de teste\n",
    "test_X = np.asarray([6.83, 4.668, 8.9, 7.91, 5.7, 8.7, 3.1, 2.1])\n",
    "test_y = np.asarray([1.84, 2.273, 3.2, 2.831, 2.92, 3.24, 1.35, 1.03])"
   ]
  },
  {
   "cell_type": "markdown",
   "metadata": {},
   "source": [
    "## Placeholders e variáveis"
   ]
  },
  {
   "cell_type": "code",
   "execution_count": 10,
   "metadata": {},
   "outputs": [],
   "source": [
    "# Placeholders para as variáveis preditoras (x) e para  variável target (y)\n",
    "X = tf.placeholder(tf.float32)\n",
    "y = tf.placeholder(tf.float32)\n",
    " \n",
    "# Pesos e bias do modelo\n",
    "W = tf.Variable(np.random.randn(), name=\"weight\")\n",
    "b = tf.Variable(np.random.randn(), name=\"bias\")"
   ]
  },
  {
   "cell_type": "markdown",
   "metadata": {},
   "source": [
    "## Construindo o modelo"
   ]
  },
  {
   "cell_type": "code",
   "execution_count": 11,
   "metadata": {},
   "outputs": [],
   "source": [
    "# Construindo o modelo linear\n",
    "# Fórmula do modelo linear: y = W*X + b\n",
    "linear_model = W*X + b\n",
    " \n",
    "# Mean squared error (erro quadrado médio)\n",
    "cost = tf.reduce_sum(tf.square(linear_model - y)) / (2*n_samples)\n",
    " \n",
    "# Otimização com Gradient descent\n",
    "optimizer = tf.train.GradientDescentOptimizer(learning_rate).minimize(cost)"
   ]
  },
  {
   "cell_type": "markdown",
   "metadata": {},
   "source": [
    "## Executando o grafo computacional, treinando e testando o modelo"
   ]
  },
  {
   "cell_type": "code",
   "execution_count": 12,
   "metadata": {},
   "outputs": [
    {
     "name": "stdout",
     "output_type": "stream",
     "text": [
      "Epoch:   200 \t Cost:    0.1146 \t W:0.3617 \t b:0.01824\n",
      "Epoch:   400 \t Cost:    0.1001 \t W: 0.338 \t b:0.1866\n",
      "Epoch:   600 \t Cost:    0.0912 \t W:0.3194 \t b:0.3186\n",
      "Epoch:   800 \t Cost:   0.08571 \t W:0.3048 \t b:0.4222\n",
      "Epoch:  1000 \t Cost:   0.08233 \t W:0.2933 \t b:0.5034\n",
      "Epoch:  1200 \t Cost:   0.08025 \t W:0.2843 \t b:0.5671\n",
      "Epoch:  1400 \t Cost:   0.07897 \t W:0.2773 \t b:0.6171\n",
      "Epoch:  1600 \t Cost:   0.07819 \t W:0.2717 \t b:0.6563\n",
      "Epoch:  1800 \t Cost:    0.0777 \t W:0.2674 \t b: 0.687\n",
      "Epoch:  2000 \t Cost:    0.0774 \t W: 0.264 \t b:0.7111\n",
      "Epoch:  2200 \t Cost:   0.07722 \t W:0.2613 \t b:  0.73\n",
      "Epoch:  2400 \t Cost:   0.07711 \t W:0.2592 \t b:0.7449\n",
      "Epoch:  2600 \t Cost:   0.07704 \t W:0.2576 \t b:0.7565\n",
      "Epoch:  2800 \t Cost:     0.077 \t W:0.2563 \t b:0.7656\n",
      "Epoch:  3000 \t Cost:   0.07697 \t W:0.2553 \t b:0.7728\n",
      "Epoch:  3200 \t Cost:   0.07695 \t W:0.2545 \t b:0.7784\n",
      "Epoch:  3400 \t Cost:   0.07694 \t W:0.2539 \t b:0.7828\n",
      "Epoch:  3600 \t Cost:   0.07694 \t W:0.2534 \t b:0.7862\n",
      "Epoch:  3800 \t Cost:   0.07693 \t W: 0.253 \t b: 0.789\n",
      "Epoch:  4000 \t Cost:   0.07693 \t W:0.2527 \t b:0.7911\n",
      "Epoch:  4200 \t Cost:   0.07693 \t W:0.2525 \t b:0.7927\n",
      "Epoch:  4400 \t Cost:   0.07693 \t W:0.2523 \t b: 0.794\n",
      "Epoch:  4600 \t Cost:   0.07693 \t W:0.2522 \t b:0.7951\n",
      "Epoch:  4800 \t Cost:   0.07693 \t W: 0.252 \t b:0.7959\n",
      "Epoch:  5000 \t Cost:   0.07693 \t W: 0.252 \t b:0.7965\n",
      "Epoch:  5200 \t Cost:   0.07693 \t W:0.2519 \t b: 0.797\n",
      "Epoch:  5400 \t Cost:   0.07693 \t W:0.2518 \t b:0.7974\n",
      "Epoch:  5600 \t Cost:   0.07693 \t W:0.2518 \t b:0.7977\n",
      "Epoch:  5800 \t Cost:   0.07693 \t W:0.2518 \t b:0.7979\n",
      "Epoch:  6000 \t Cost:   0.07693 \t W:0.2517 \t b:0.7981\n",
      "Epoch:  6200 \t Cost:   0.07693 \t W:0.2517 \t b:0.7983\n",
      "Epoch:  6400 \t Cost:   0.07693 \t W:0.2517 \t b:0.7984\n",
      "Epoch:  6600 \t Cost:   0.07693 \t W:0.2517 \t b:0.7985\n",
      "Epoch:  6800 \t Cost:   0.07693 \t W:0.2517 \t b:0.7985\n",
      "Epoch:  7000 \t Cost:   0.07693 \t W:0.2517 \t b:0.7986\n",
      "Epoch:  7200 \t Cost:   0.07693 \t W:0.2517 \t b:0.7986\n",
      "Epoch:  7400 \t Cost:   0.07693 \t W:0.2517 \t b:0.7987\n",
      "Epoch:  7600 \t Cost:   0.07693 \t W:0.2516 \t b:0.7987\n",
      "Epoch:  7800 \t Cost:   0.07693 \t W:0.2516 \t b:0.7987\n",
      "Epoch:  8000 \t Cost:   0.07693 \t W:0.2516 \t b:0.7987\n",
      "Epoch:  8200 \t Cost:   0.07693 \t W:0.2516 \t b:0.7988\n",
      "Epoch:  8400 \t Cost:   0.07693 \t W:0.2516 \t b:0.7988\n",
      "Epoch:  8600 \t Cost:   0.07693 \t W:0.2516 \t b:0.7988\n",
      "Epoch:  8800 \t Cost:   0.07693 \t W:0.2516 \t b:0.7988\n",
      "Epoch:  9000 \t Cost:   0.07693 \t W:0.2516 \t b:0.7988\n",
      "Epoch:  9200 \t Cost:   0.07693 \t W:0.2516 \t b:0.7988\n",
      "Epoch:  9400 \t Cost:   0.07693 \t W:0.2516 \t b:0.7988\n",
      "Epoch:  9600 \t Cost:   0.07693 \t W:0.2516 \t b:0.7988\n",
      "Epoch:  9800 \t Cost:   0.07693 \t W:0.2516 \t b:0.7988\n",
      "Epoch: 10000 \t Cost:   0.07693 \t W:0.2516 \t b:0.7988\n",
      "Epoch: 10200 \t Cost:   0.07693 \t W:0.2516 \t b:0.7988\n",
      "Epoch: 10400 \t Cost:   0.07693 \t W:0.2516 \t b:0.7988\n",
      "Epoch: 10600 \t Cost:   0.07693 \t W:0.2516 \t b:0.7988\n",
      "Epoch: 10800 \t Cost:   0.07693 \t W:0.2516 \t b:0.7988\n",
      "Epoch: 11000 \t Cost:   0.07693 \t W:0.2516 \t b:0.7988\n",
      "Epoch: 11200 \t Cost:   0.07693 \t W:0.2516 \t b:0.7988\n",
      "Epoch: 11400 \t Cost:   0.07693 \t W:0.2516 \t b:0.7988\n",
      "Epoch: 11600 \t Cost:   0.07693 \t W:0.2516 \t b:0.7988\n",
      "Epoch: 11800 \t Cost:   0.07693 \t W:0.2516 \t b:0.7988\n",
      "Epoch: 12000 \t Cost:   0.07693 \t W:0.2516 \t b:0.7988\n",
      "Epoch: 12200 \t Cost:   0.07693 \t W:0.2516 \t b:0.7988\n",
      "Epoch: 12400 \t Cost:   0.07693 \t W:0.2516 \t b:0.7988\n",
      "Epoch: 12600 \t Cost:   0.07693 \t W:0.2516 \t b:0.7988\n",
      "Epoch: 12800 \t Cost:   0.07693 \t W:0.2516 \t b:0.7988\n",
      "Epoch: 13000 \t Cost:   0.07693 \t W:0.2516 \t b:0.7988\n",
      "Epoch: 13200 \t Cost:   0.07693 \t W:0.2516 \t b:0.7988\n",
      "Epoch: 13400 \t Cost:   0.07693 \t W:0.2516 \t b:0.7988\n",
      "Epoch: 13600 \t Cost:   0.07693 \t W:0.2516 \t b:0.7988\n",
      "Epoch: 13800 \t Cost:   0.07693 \t W:0.2516 \t b:0.7988\n",
      "Epoch: 14000 \t Cost:   0.07693 \t W:0.2516 \t b:0.7988\n",
      "Epoch: 14200 \t Cost:   0.07693 \t W:0.2516 \t b:0.7988\n",
      "Epoch: 14400 \t Cost:   0.07693 \t W:0.2516 \t b:0.7988\n",
      "Epoch: 14600 \t Cost:   0.07693 \t W:0.2516 \t b:0.7988\n",
      "Epoch: 14800 \t Cost:   0.07693 \t W:0.2516 \t b:0.7988\n",
      "Epoch: 15000 \t Cost:   0.07693 \t W:0.2516 \t b:0.7988\n",
      "Epoch: 15200 \t Cost:   0.07693 \t W:0.2516 \t b:0.7988\n",
      "Epoch: 15400 \t Cost:   0.07693 \t W:0.2516 \t b:0.7988\n",
      "Epoch: 15600 \t Cost:   0.07693 \t W:0.2516 \t b:0.7988\n",
      "Epoch: 15800 \t Cost:   0.07693 \t W:0.2516 \t b:0.7988\n",
      "Epoch: 16000 \t Cost:   0.07693 \t W:0.2516 \t b:0.7988\n",
      "Epoch: 16200 \t Cost:   0.07693 \t W:0.2516 \t b:0.7988\n",
      "Epoch: 16400 \t Cost:   0.07693 \t W:0.2516 \t b:0.7988\n",
      "Epoch: 16600 \t Cost:   0.07693 \t W:0.2516 \t b:0.7988\n",
      "Epoch: 16800 \t Cost:   0.07693 \t W:0.2516 \t b:0.7988\n",
      "Epoch: 17000 \t Cost:   0.07693 \t W:0.2516 \t b:0.7988\n",
      "Epoch: 17200 \t Cost:   0.07693 \t W:0.2516 \t b:0.7988\n",
      "Epoch: 17400 \t Cost:   0.07693 \t W:0.2516 \t b:0.7988\n",
      "Epoch: 17600 \t Cost:   0.07693 \t W:0.2516 \t b:0.7988\n",
      "Epoch: 17800 \t Cost:   0.07693 \t W:0.2516 \t b:0.7988\n",
      "Epoch: 18000 \t Cost:   0.07693 \t W:0.2516 \t b:0.7988\n",
      "Epoch: 18200 \t Cost:   0.07693 \t W:0.2516 \t b:0.7988\n",
      "Epoch: 18400 \t Cost:   0.07693 \t W:0.2516 \t b:0.7988\n",
      "Epoch: 18600 \t Cost:   0.07693 \t W:0.2516 \t b:0.7988\n",
      "Epoch: 18800 \t Cost:   0.07693 \t W:0.2516 \t b:0.7988\n",
      "Epoch: 19000 \t Cost:   0.07693 \t W:0.2516 \t b:0.7988\n",
      "Epoch: 19200 \t Cost:   0.07693 \t W:0.2516 \t b:0.7988\n",
      "Epoch: 19400 \t Cost:   0.07693 \t W:0.2516 \t b:0.7988\n",
      "Epoch: 19600 \t Cost:   0.07693 \t W:0.2516 \t b:0.7988\n",
      "Epoch: 19800 \t Cost:   0.07693 \t W:0.2516 \t b:0.7988\n",
      "Epoch: 20000 \t Cost:   0.07693 \t W:0.2516 \t b:0.7988\n",
      "\n",
      "Otimização Concluída!\n",
      "Custo Final de Treinamento: 0.07692883  - W Final: 0.25163856  - b Final: 0.79877573 \n",
      "\n"
     ]
    },
    {
     "data": {
      "image/png": "[encoded data removed]",
      "text/plain": [
       "<Figure size 432x288 with 1 Axes>"
      ]
     },
     "metadata": {
      "needs_background": "light"
     },
     "output_type": "display_data"
    },
    {
     "name": "stdout",
     "output_type": "stream",
     "text": [
      "Custo Final em Teste: 0.07828689\n",
      "Diferença Média Quadrada Absoluta: 0.001358062\n"
     ]
    },
    {
     "data": {
      "image/png": "[encoded data removed]",
      "text/plain": [
       "<Figure size 432x288 with 1 Axes>"
      ]
     },
     "metadata": {
      "needs_background": "light"
     },
     "output_type": "display_data"
    }
   ],
   "source": [
    "# Definindo a inicialização das variáveis\n",
    "init = tf.global_variables_initializer()\n",
    " \n",
    "# Iniciando a sessão\n",
    "with tf.Session() as sess:\n",
    "    # Iniciando as variáveis\n",
    "    sess.run(init)\n",
    " \n",
    "    # Treinamento do modelo\n",
    "    for epoch in range(training_epochs):\n",
    " \n",
    "        # Otimização com Gradient Descent\n",
    "        sess.run(optimizer, feed_dict={X: train_X, y: train_y})\n",
    "         \n",
    "        # Display de cada epoch\n",
    "        if (epoch+1) % display_step == 0:\n",
    "            c = sess.run(cost, feed_dict={X: train_X, y: train_y})\n",
    "            print(\"Epoch:{0:6} \\t Cost:{1:10.4} \\t W:{2:6.4} \\t b:{3:6.4}\".format(epoch+1, c, sess.run(W), sess.run(b)))\n",
    "             \n",
    "    # Imprimindo os parâmetros finais do modelo\n",
    "    print(\"\\nOtimização Concluída!\")\n",
    "    training_cost = sess.run(cost, feed_dict={X: train_X, y: train_y})\n",
    "    print(\"Custo Final de Treinamento:\", training_cost, \" - W Final:\", sess.run(W), \" - b Final:\", sess.run(b), '\\n')\n",
    "     \n",
    "    # Visualizando o resultado\n",
    "    plt.plot(train_X, train_y, 'ro', label='Dados Originais')\n",
    "    plt.plot(train_X, sess.run(W) * train_X + sess.run(b), label='Linha de Regressão')\n",
    "    plt.legend()\n",
    "    plt.show()\n",
    " \n",
    "    # Testando o modelo\n",
    "    testing_cost = sess.run(tf.reduce_sum(tf.square(linear_model - y)) / (2 * test_X.shape[0]), \n",
    "                            feed_dict={X: test_X, y: test_y})\n",
    "     \n",
    "    print(\"Custo Final em Teste:\", testing_cost)\n",
    "    print(\"Diferença Média Quadrada Absoluta:\", abs(training_cost - testing_cost))\n",
    " \n",
    "    # Display em Teste\n",
    "    plt.plot(test_X, test_y, 'bo', label='Dados de Teste')\n",
    "    plt.plot(train_X, sess.run(W) * train_X + sess.run(b), label='Linha de Regressão')\n",
    "    plt.legend()\n",
    "    plt.show()\n",
    "    \n",
    "sess.close()"
   ]
  },
  {
   "cell_type": "markdown",
   "metadata": {},
   "source": [
    "Conheça a Formação Inteligência Artificial, um programa completo, 100% online e 100% em português, com 402 horas em 9 cursos de nível intermediário/avançado, que vão ajudá-lo a se tornar um dos profissionais mais cobiçados do mercado de tecnologia. Clique no link abaixo, faça sua inscrição, comece hoje mesmo e aumente sua empregabilidade:\n",
    "\n",
    "https://www.datascienceacademy.com.br/pages/formacao-inteligencia-artificial"
   ]
  },
  {
   "cell_type": "markdown",
   "metadata": {
    "collapsed": true
   },
   "source": [
    "# Fim"
   ]
  },
  {
   "cell_type": "markdown",
   "metadata": {
    "collapsed": true
   },
   "source": [
    "### Obrigado - Data Science Academy - <a href=\"http://facebook.com/dsacademybr\">facebook.com/dsacademybr</a>"
   ]
  }
 ],
 "metadata": {
  "kernelspec": {
   "display_name": "Python 3",
   "language": "python",
   "name": "python3"
  },
  "language_info": {
   "codemirror_mode": {
    "name": "ipython",
    "version": 3
   },
   "file_extension": ".py",
   "mimetype": "text/x-python",
   "name": "python",
   "nbconvert_exporter": "python",
   "pygments_lexer": "ipython3",
   "version": "3.7.1"
  }
 },
 "nbformat": 4,
 "nbformat_minor": 1
}
