{
 "cells": [
  {
   "cell_type": "markdown",
   "metadata": {},
   "source": [
    "# <font color='blue'>Data Science Academy - Python Fundamentos - Capítulo 8</font>\n",
    "\n",
    "## Download: http://github.com/dsacademybr"
   ]
  },
  {
   "cell_type": "markdown",
   "metadata": {},
   "source": [
    "### Exercícios Sobre Módulos Python Para Análise de Dados"
   ]
  },
  {
   "cell_type": "markdown",
   "metadata": {},
   "source": [
    "### ****** ATENÇÃO ******\n",
    "### Alguns dos exercícios podem requerer pesquisa adicional na documentação dos pacotes. Pesquise!"
   ]
  },
  {
   "cell_type": "markdown",
   "metadata": {},
   "source": [
    "### Exercício 1"
   ]
  },
  {
   "cell_type": "code",
   "execution_count": 25,
   "metadata": {},
   "outputs": [
    {
     "name": "stdout",
     "output_type": "stream",
     "text": [
      "Wall time: 4.99 ms\n",
      "Wall time: 102 ms\n"
     ]
    }
   ],
   "source": [
    "# Crie um array NumPy com 1000000 e uma lista com 1000000.\n",
    "# Multiplique cada elemento do array e da lista por 2 e calcule o tempo de execução com cada um dos objetos (use %time).\n",
    "# Qual objeto oferece melhor performance, array NumPy ou lista?\n",
    "import numpy as np\n",
    "\n",
    "array = np.arange(1000000)\n",
    "lista    = list(range(1000000))\n",
    "\n",
    "%time array_x2 = array*2\n",
    "%time lista_x2 = [2*x for x in lista]"
   ]
  },
  {
   "cell_type": "markdown",
   "metadata": {},
   "source": [
    "## Conclusão: Array numpy são bem mais performáticos do que listas Python"
   ]
  },
  {
   "cell_type": "markdown",
   "metadata": {},
   "source": [
    "### Exercício 2"
   ]
  },
  {
   "cell_type": "code",
   "execution_count": null,
   "metadata": {},
   "outputs": [],
   "source": [
    "# Exercício 2\n",
    "# Crie um array de 10 elementos\n",
    "# Altere o valores de todos os elementos dos índices 5 a 8 para 0\n",
    "\n",
    "array_10elementos = np.arange(10)\n",
    "array_10elementos[5:8] = 0\n",
    "print (array_10elementos)"
   ]
  },
  {
   "cell_type": "markdown",
   "metadata": {},
   "source": [
    "### Exercício 3"
   ]
  },
  {
   "cell_type": "code",
   "execution_count": 27,
   "metadata": {},
   "outputs": [
    {
     "data": {
      "text/plain": [
       "array([[ 0,  1,  2,  3,  4],\n",
       "       [ 5,  6,  7,  8,  9],\n",
       "       [10, 11, 12, 13, 14],\n",
       "       [15, 16, 17, 18, 19],\n",
       "       [20, 21, 22, 23, 24]])"
      ]
     },
     "execution_count": 27,
     "metadata": {},
     "output_type": "execute_result"
    }
   ],
   "source": [
    "# Crie um array de 3 dimensões e imprima a dimensão 1 \n",
    "temp = np.arange(125)\n",
    "array_3d = temp.reshape(5,5,5)\n",
    "array_3d[0]"
   ]
  },
  {
   "cell_type": "markdown",
   "metadata": {},
   "source": [
    "### Exercício 4"
   ]
  },
  {
   "cell_type": "code",
   "execution_count": 30,
   "metadata": {},
   "outputs": [
    {
     "name": "stdout",
     "output_type": "stream",
     "text": [
      "Matrix:\n",
      "[[ 0  1  2  3  4]\n",
      " [ 5  6  7  8  9]\n",
      " [10 11 12 13 14]\n",
      " [15 16 17 18 19]\n",
      " [20 21 22 23 24]]\n",
      "Terceira linha:\n",
      "[10 11 12 13 14]\n",
      "Elementos da primeira e segunda linhas e segunda e terceira colunas:\n",
      "[[1 2]\n",
      " [6 7]]\n"
     ]
    }
   ],
   "source": [
    "# Crie um array de duas dimensões (matriz).\n",
    "matrix = np.arange(25).reshape(5,5)\n",
    "print (\"Matrix:\")\n",
    "print(matrix)\n",
    "# Imprima os elementos da terceira linha da matriz\n",
    "print (\"Terceira linha:\")\n",
    "print(matrix[2,:])\n",
    "# Imprima todos os elementos da primeira e segunda linhas e segunda e terceira colunas\n",
    "print (\"Elementos da primeira e segunda linhas e segunda e terceira colunas:\")\n",
    "print(matrix[0:2,1:3])"
   ]
  },
  {
   "cell_type": "markdown",
   "metadata": {},
   "source": [
    "### Exercício 5"
   ]
  },
  {
   "cell_type": "code",
   "execution_count": 31,
   "metadata": {},
   "outputs": [
    {
     "data": {
      "text/plain": [
       "array([[ 0,  5, 10],\n",
       "       [ 1,  6, 11],\n",
       "       [ 2,  7, 12],\n",
       "       [ 3,  8, 13],\n",
       "       [ 4,  9, 14]])"
      ]
     },
     "execution_count": 31,
     "metadata": {},
     "output_type": "execute_result"
    }
   ],
   "source": [
    "import numpy as np\n",
    "# Calcule a transposta da matriz abaixo\n",
    "arr = np.arange(15).reshape((3, 5))\n",
    "\n",
    "transposta = arr.transpose()\n",
    "transposta"
   ]
  },
  {
   "cell_type": "markdown",
   "metadata": {},
   "source": [
    "### Exercício 6"
   ]
  },
  {
   "cell_type": "code",
   "execution_count": 32,
   "metadata": {},
   "outputs": [
    {
     "name": "stdout",
     "output_type": "stream",
     "text": [
      "[1.1 2.2 1.3 1.4 2.5]\n"
     ]
    }
   ],
   "source": [
    "# Considere os 3 arrays abaixo\n",
    "# Retorne o valor do array xarr se o valor for True no array cond. Caso contrário, retorne o valor do array yarr.\n",
    "xarr = np.array([1.1, 1.2, 1.3, 1.4, 1.5])\n",
    "yarr = np.array([2.1, 2.2, 2.3, 2.4, 2.5])\n",
    "cond = np.array([True, False, True, True, False])\n",
    "\n",
    "arr = np.zeros(len(xarr))\n",
    "for i in range(len(cond)):\n",
    "    if cond[i] == True:\n",
    "        arr[i] = xarr[i]\n",
    "    else:\n",
    "        arr[i] = yarr[i]        \n",
    "\n",
    "print (arr)        "
   ]
  },
  {
   "cell_type": "markdown",
   "metadata": {},
   "source": [
    "### Exercício 7"
   ]
  },
  {
   "cell_type": "code",
   "execution_count": null,
   "metadata": {},
   "outputs": [],
   "source": [
    "# Crie um array A com 10 elementos e salve o array em disco com a extensão npy\n",
    "# Depois carregue o array do disco no array B\n",
    "arr = np.arange(10)\n",
    "np.save('array_10_elementos', arr)\n",
    "\n",
    "b = np.load('array_10_elementos.npy')\n",
    "print (b)"
   ]
  },
  {
   "cell_type": "markdown",
   "metadata": {
    "collapsed": true
   },
   "source": [
    "### Exercício 8"
   ]
  },
  {
   "cell_type": "code",
   "execution_count": null,
   "metadata": {},
   "outputs": [],
   "source": [
    "# Considerando a série abaixo, imprima os valores únicos na série\n",
    "import pandas as pd\n",
    "obj = pd.Series(['c', 'a', 'd', 'a', 'a', 'b', 'b', 'c', 'c', 'a', 'b'])\n",
    "print(obj.unique())"
   ]
  },
  {
   "cell_type": "markdown",
   "metadata": {
    "collapsed": true
   },
   "source": [
    "### Exercício 9"
   ]
  },
  {
   "cell_type": "code",
   "execution_count": 6,
   "metadata": {},
   "outputs": [
    {
     "ename": "TypeError",
     "evalue": "string indices must be integers",
     "output_type": "error",
     "traceback": [
      "\u001b[1;31m------------------------------------------------------------------------\u001b[0m",
      "\u001b[1;31mTypeError\u001b[0m                              Traceback (most recent call last)",
      "\u001b[1;32m<ipython-input-6-df864fcf2998>\u001b[0m in \u001b[0;36m<module>\u001b[1;34m\u001b[0m\n\u001b[0;32m     13\u001b[0m \u001b[1;33m\u001b[0m\u001b[0m\n\u001b[0;32m     14\u001b[0m \u001b[1;32mfor\u001b[0m \u001b[0mitem\u001b[0m \u001b[1;32min\u001b[0m \u001b[0mresp_list\u001b[0m\u001b[1;33m:\u001b[0m\u001b[1;33m\u001b[0m\u001b[1;33m\u001b[0m\u001b[0m\n\u001b[1;32m---> 15\u001b[1;33m     \u001b[0mnumbers\u001b[0m\u001b[1;33m.\u001b[0m\u001b[0mappend\u001b[0m\u001b[1;33m(\u001b[0m\u001b[0mitem\u001b[0m\u001b[1;33m[\u001b[0m\u001b[1;34m'number'\u001b[0m\u001b[1;33m]\u001b[0m\u001b[1;33m)\u001b[0m\u001b[1;33m\u001b[0m\u001b[1;33m\u001b[0m\u001b[0m\n\u001b[0m\u001b[0;32m     16\u001b[0m     \u001b[0mtitles\u001b[0m\u001b[1;33m.\u001b[0m\u001b[0mappend\u001b[0m\u001b[1;33m(\u001b[0m\u001b[0mitem\u001b[0m\u001b[1;33m[\u001b[0m\u001b[1;34m'title'\u001b[0m\u001b[1;33m]\u001b[0m\u001b[1;33m)\u001b[0m\u001b[1;33m\u001b[0m\u001b[1;33m\u001b[0m\u001b[0m\n\u001b[0;32m     17\u001b[0m     \u001b[0mlabels\u001b[0m\u001b[1;33m.\u001b[0m\u001b[0mappend\u001b[0m\u001b[1;33m(\u001b[0m\u001b[0mitem\u001b[0m\u001b[1;33m[\u001b[0m\u001b[1;34m'labels'\u001b[0m\u001b[1;33m]\u001b[0m\u001b[1;33m)\u001b[0m\u001b[1;33m\u001b[0m\u001b[1;33m\u001b[0m\u001b[0m\n",
      "\u001b[1;31mTypeError\u001b[0m: string indices must be integers"
     ]
    }
   ],
   "source": [
    "# Considerando o trecho de código que conecta em uma url na internet, imprima o dataframe conforme abaixo.\n",
    "import requests\n",
    "import pandas as pd\n",
    "\n",
    "url = 'https://api.github.com/repos/pandas-dev/pandas/issues'\n",
    "resp = requests.get(url)\n",
    "resp_list = resp.json()\n",
    "\n",
    "numbers = []\n",
    "titles = []\n",
    "labels = []\n",
    "states = []\n",
    "\n",
    "for item in resp_list:\n",
    "    numbers.append(item['number'])\n",
    "    titles.append(item['title'])\n",
    "    labels.append(item['labels'])\n",
    "    states.append(item['state'])\n",
    "\n",
    "data = {'number': numbers, 'title': titles, 'label': labels, 'state': states}\n",
    "df = pd.DataFrame(data)"
   ]
  },
  {
   "cell_type": "code",
   "execution_count": 3,
   "metadata": {},
   "outputs": [
    {
     "ename": "NameError",
     "evalue": "name 'df' is not defined",
     "output_type": "error",
     "traceback": [
      "\u001b[1;31m------------------------------------------------------------------------\u001b[0m",
      "\u001b[1;31mNameError\u001b[0m                              Traceback (most recent call last)",
      "\u001b[1;32m<ipython-input-3-00cf07b74dcd>\u001b[0m in \u001b[0;36m<module>\u001b[1;34m\u001b[0m\n\u001b[1;32m----> 1\u001b[1;33m \u001b[0mdf\u001b[0m\u001b[1;33m\u001b[0m\u001b[1;33m\u001b[0m\u001b[0m\n\u001b[0m",
      "\u001b[1;31mNameError\u001b[0m: name 'df' is not defined"
     ]
    }
   ],
   "source": [
    "df"
   ]
  },
  {
   "cell_type": "markdown",
   "metadata": {},
   "source": [
    "### Exercício 10"
   ]
  },
  {
   "cell_type": "code",
   "execution_count": 3,
   "metadata": {},
   "outputs": [
    {
     "name": "stdout",
     "output_type": "stream",
     "text": [
      "Requirement already satisfied: names in c:\\programdata\\anaconda3\\lib\\site-packages (0.3.0)\n"
     ]
    }
   ],
   "source": [
    "# Crie um banco de dados no SQLite, crie uma tabela, insira registros, \n",
    "# consulte a tabela e retorne os dados em dataframe do Pandas\n",
    "!pip install names\n",
    "import os\n",
    "import random\n",
    "import names\n",
    "import pandas as pd\n",
    "\n",
    "#os.remove(\"exercicio10.db\") if os.path.exists(\"exercicio10.db\") else None\n",
    "\n",
    "import sqlite3\n",
    "# Cria uma conexão\n",
    "conn = sqlite3.connect(\"exercicio10.db\")\n",
    "\n",
    "#Cria um curso\n",
    "c = conn.cursor()\n",
    "\n",
    "# Cria tabela\n",
    "def create_table():\n",
    "    c.execute('CREATE TABLE IF NOT EXISTS PLAYERS(\\\n",
    "                player_id INTEGER PRIMARY KEY AUTOINCREMENT NOT NULL,\\\n",
    "                player_name TEXT,\\\n",
    "                player_score FLOAT)')\n",
    "\n",
    "# Insere dado aleatório\n",
    "def data_insert_random():    \n",
    "    player_name = names.get_full_name()\n",
    "    player_score = random.random()*1000\n",
    "    c.execute('insert into players (player_name, player_score) VALUES(?, ?)', (player_name, player_score))\n",
    "    conn.commit()\n",
    "    \n",
    "# Faz leitura de todo banco de dados\n",
    "def read_db_data():\n",
    "    c.execute('SELECT * FROM PLAYERS')\n",
    "    data = c.fetchall()\n",
    "    return data\n",
    "    \n",
    "#create_table()\n",
    "#for i in range(1000):\n",
    "#    data_insert_random()\n",
    "    \n",
    "data = read_db_data()\n",
    "\n",
    "\n",
    "df = pd.DataFrame(data, columns = ['id','name','score'])\n",
    "\n",
    "c.close()\n",
    "conn.close()\n",
    "             "
   ]
  },
  {
   "cell_type": "code",
   "execution_count": 4,
   "metadata": {},
   "outputs": [
    {
     "data": {
      "text/html": [
       "<div>\n",
       "<style scoped>\n",
       "    .dataframe tbody tr th:only-of-type {\n",
       "        vertical-align: middle;\n",
       "    }\n",
       "\n",
       "    .dataframe tbody tr th {\n",
       "        vertical-align: top;\n",
       "    }\n",
       "\n",
       "    .dataframe thead th {\n",
       "        text-align: right;\n",
       "    }\n",
       "</style>\n",
       "<table border=\"1\" class=\"dataframe\">\n",
       "  <thead>\n",
       "    <tr style=\"text-align: right;\">\n",
       "      <th></th>\n",
       "      <th>id</th>\n",
       "      <th>name</th>\n",
       "      <th>score</th>\n",
       "    </tr>\n",
       "  </thead>\n",
       "  <tbody>\n",
       "    <tr>\n",
       "      <th>0</th>\n",
       "      <td>1</td>\n",
       "      <td>Jodie Alford</td>\n",
       "      <td>724.395246</td>\n",
       "    </tr>\n",
       "    <tr>\n",
       "      <th>1</th>\n",
       "      <td>2</td>\n",
       "      <td>Maria Haigh</td>\n",
       "      <td>384.156556</td>\n",
       "    </tr>\n",
       "    <tr>\n",
       "      <th>2</th>\n",
       "      <td>3</td>\n",
       "      <td>Jean Alexander</td>\n",
       "      <td>292.088023</td>\n",
       "    </tr>\n",
       "    <tr>\n",
       "      <th>3</th>\n",
       "      <td>4</td>\n",
       "      <td>Ruth Simon</td>\n",
       "      <td>298.928908</td>\n",
       "    </tr>\n",
       "    <tr>\n",
       "      <th>4</th>\n",
       "      <td>5</td>\n",
       "      <td>Ray Keeler</td>\n",
       "      <td>153.355112</td>\n",
       "    </tr>\n",
       "    <tr>\n",
       "      <th>5</th>\n",
       "      <td>6</td>\n",
       "      <td>Georgette Chamberlain</td>\n",
       "      <td>720.732781</td>\n",
       "    </tr>\n",
       "    <tr>\n",
       "      <th>6</th>\n",
       "      <td>7</td>\n",
       "      <td>Kenneth Norton</td>\n",
       "      <td>357.886350</td>\n",
       "    </tr>\n",
       "    <tr>\n",
       "      <th>7</th>\n",
       "      <td>8</td>\n",
       "      <td>Dustin Crosswell</td>\n",
       "      <td>279.583971</td>\n",
       "    </tr>\n",
       "    <tr>\n",
       "      <th>8</th>\n",
       "      <td>9</td>\n",
       "      <td>Lloyd Brooks</td>\n",
       "      <td>918.383095</td>\n",
       "    </tr>\n",
       "    <tr>\n",
       "      <th>9</th>\n",
       "      <td>10</td>\n",
       "      <td>Kevin Wright</td>\n",
       "      <td>984.992103</td>\n",
       "    </tr>\n",
       "    <tr>\n",
       "      <th>10</th>\n",
       "      <td>11</td>\n",
       "      <td>Michelle Espino</td>\n",
       "      <td>111.833091</td>\n",
       "    </tr>\n",
       "    <tr>\n",
       "      <th>11</th>\n",
       "      <td>12</td>\n",
       "      <td>Joanna Washington</td>\n",
       "      <td>347.818157</td>\n",
       "    </tr>\n",
       "    <tr>\n",
       "      <th>12</th>\n",
       "      <td>13</td>\n",
       "      <td>April Toner</td>\n",
       "      <td>27.985479</td>\n",
       "    </tr>\n",
       "    <tr>\n",
       "      <th>13</th>\n",
       "      <td>14</td>\n",
       "      <td>John Lundberg</td>\n",
       "      <td>869.926339</td>\n",
       "    </tr>\n",
       "    <tr>\n",
       "      <th>14</th>\n",
       "      <td>15</td>\n",
       "      <td>Clora Phipps</td>\n",
       "      <td>582.578402</td>\n",
       "    </tr>\n",
       "    <tr>\n",
       "      <th>15</th>\n",
       "      <td>16</td>\n",
       "      <td>Maud Mccollum</td>\n",
       "      <td>945.410517</td>\n",
       "    </tr>\n",
       "    <tr>\n",
       "      <th>16</th>\n",
       "      <td>17</td>\n",
       "      <td>Robert Murphy</td>\n",
       "      <td>80.590353</td>\n",
       "    </tr>\n",
       "    <tr>\n",
       "      <th>17</th>\n",
       "      <td>18</td>\n",
       "      <td>Otis Johnson</td>\n",
       "      <td>736.756296</td>\n",
       "    </tr>\n",
       "    <tr>\n",
       "      <th>18</th>\n",
       "      <td>19</td>\n",
       "      <td>Richard Guzma</td>\n",
       "      <td>223.704312</td>\n",
       "    </tr>\n",
       "    <tr>\n",
       "      <th>19</th>\n",
       "      <td>20</td>\n",
       "      <td>Sandra Bishop</td>\n",
       "      <td>832.180889</td>\n",
       "    </tr>\n",
       "    <tr>\n",
       "      <th>20</th>\n",
       "      <td>21</td>\n",
       "      <td>Shannon Metz</td>\n",
       "      <td>105.333642</td>\n",
       "    </tr>\n",
       "    <tr>\n",
       "      <th>21</th>\n",
       "      <td>22</td>\n",
       "      <td>Alicia Heidebrecht</td>\n",
       "      <td>865.320052</td>\n",
       "    </tr>\n",
       "    <tr>\n",
       "      <th>22</th>\n",
       "      <td>23</td>\n",
       "      <td>Madge Rhodes</td>\n",
       "      <td>380.015643</td>\n",
       "    </tr>\n",
       "    <tr>\n",
       "      <th>23</th>\n",
       "      <td>24</td>\n",
       "      <td>Ruth Nathaniel</td>\n",
       "      <td>366.256366</td>\n",
       "    </tr>\n",
       "    <tr>\n",
       "      <th>24</th>\n",
       "      <td>25</td>\n",
       "      <td>Catherine Swing</td>\n",
       "      <td>450.889877</td>\n",
       "    </tr>\n",
       "    <tr>\n",
       "      <th>25</th>\n",
       "      <td>26</td>\n",
       "      <td>Lawrence Neighbors</td>\n",
       "      <td>495.060465</td>\n",
       "    </tr>\n",
       "    <tr>\n",
       "      <th>26</th>\n",
       "      <td>27</td>\n",
       "      <td>Marta Blaine</td>\n",
       "      <td>263.532592</td>\n",
       "    </tr>\n",
       "    <tr>\n",
       "      <th>27</th>\n",
       "      <td>28</td>\n",
       "      <td>Sharon Boyle</td>\n",
       "      <td>843.475878</td>\n",
       "    </tr>\n",
       "    <tr>\n",
       "      <th>28</th>\n",
       "      <td>29</td>\n",
       "      <td>Larry Firestine</td>\n",
       "      <td>879.662561</td>\n",
       "    </tr>\n",
       "    <tr>\n",
       "      <th>29</th>\n",
       "      <td>30</td>\n",
       "      <td>Travis Villiard</td>\n",
       "      <td>148.098596</td>\n",
       "    </tr>\n",
       "    <tr>\n",
       "      <th>...</th>\n",
       "      <td>...</td>\n",
       "      <td>...</td>\n",
       "      <td>...</td>\n",
       "    </tr>\n",
       "    <tr>\n",
       "      <th>1970</th>\n",
       "      <td>1971</td>\n",
       "      <td>Evelyn Platt</td>\n",
       "      <td>844.687840</td>\n",
       "    </tr>\n",
       "    <tr>\n",
       "      <th>1971</th>\n",
       "      <td>1972</td>\n",
       "      <td>Kristi Gomes</td>\n",
       "      <td>784.818506</td>\n",
       "    </tr>\n",
       "    <tr>\n",
       "      <th>1972</th>\n",
       "      <td>1973</td>\n",
       "      <td>Robert Stone</td>\n",
       "      <td>714.422414</td>\n",
       "    </tr>\n",
       "    <tr>\n",
       "      <th>1973</th>\n",
       "      <td>1974</td>\n",
       "      <td>Jana Bradley</td>\n",
       "      <td>540.795256</td>\n",
       "    </tr>\n",
       "    <tr>\n",
       "      <th>1974</th>\n",
       "      <td>1975</td>\n",
       "      <td>Carol Kemp</td>\n",
       "      <td>737.830272</td>\n",
       "    </tr>\n",
       "    <tr>\n",
       "      <th>1975</th>\n",
       "      <td>1976</td>\n",
       "      <td>Barbara Livermore</td>\n",
       "      <td>592.041881</td>\n",
       "    </tr>\n",
       "    <tr>\n",
       "      <th>1976</th>\n",
       "      <td>1977</td>\n",
       "      <td>Kay Cook</td>\n",
       "      <td>273.931056</td>\n",
       "    </tr>\n",
       "    <tr>\n",
       "      <th>1977</th>\n",
       "      <td>1978</td>\n",
       "      <td>Dale Williams</td>\n",
       "      <td>857.434289</td>\n",
       "    </tr>\n",
       "    <tr>\n",
       "      <th>1978</th>\n",
       "      <td>1979</td>\n",
       "      <td>Vivian Varos</td>\n",
       "      <td>566.197173</td>\n",
       "    </tr>\n",
       "    <tr>\n",
       "      <th>1979</th>\n",
       "      <td>1980</td>\n",
       "      <td>Michael Denning</td>\n",
       "      <td>422.083686</td>\n",
       "    </tr>\n",
       "    <tr>\n",
       "      <th>1980</th>\n",
       "      <td>1981</td>\n",
       "      <td>Billy Rogers</td>\n",
       "      <td>280.371750</td>\n",
       "    </tr>\n",
       "    <tr>\n",
       "      <th>1981</th>\n",
       "      <td>1982</td>\n",
       "      <td>Wendy Figueroa</td>\n",
       "      <td>272.899596</td>\n",
       "    </tr>\n",
       "    <tr>\n",
       "      <th>1982</th>\n",
       "      <td>1983</td>\n",
       "      <td>Helen Mancuso</td>\n",
       "      <td>89.268067</td>\n",
       "    </tr>\n",
       "    <tr>\n",
       "      <th>1983</th>\n",
       "      <td>1984</td>\n",
       "      <td>Joseph Parsons</td>\n",
       "      <td>302.820890</td>\n",
       "    </tr>\n",
       "    <tr>\n",
       "      <th>1984</th>\n",
       "      <td>1985</td>\n",
       "      <td>Sarah Larsen</td>\n",
       "      <td>797.903929</td>\n",
       "    </tr>\n",
       "    <tr>\n",
       "      <th>1985</th>\n",
       "      <td>1986</td>\n",
       "      <td>Hubert Rothwell</td>\n",
       "      <td>421.032951</td>\n",
       "    </tr>\n",
       "    <tr>\n",
       "      <th>1986</th>\n",
       "      <td>1987</td>\n",
       "      <td>Joseph Austin</td>\n",
       "      <td>106.629780</td>\n",
       "    </tr>\n",
       "    <tr>\n",
       "      <th>1987</th>\n",
       "      <td>1988</td>\n",
       "      <td>Michael Keene</td>\n",
       "      <td>931.553767</td>\n",
       "    </tr>\n",
       "    <tr>\n",
       "      <th>1988</th>\n",
       "      <td>1989</td>\n",
       "      <td>Mary Cervantez</td>\n",
       "      <td>918.706554</td>\n",
       "    </tr>\n",
       "    <tr>\n",
       "      <th>1989</th>\n",
       "      <td>1990</td>\n",
       "      <td>Laura Clark</td>\n",
       "      <td>576.675038</td>\n",
       "    </tr>\n",
       "    <tr>\n",
       "      <th>1990</th>\n",
       "      <td>1991</td>\n",
       "      <td>Robert Mullane</td>\n",
       "      <td>530.295061</td>\n",
       "    </tr>\n",
       "    <tr>\n",
       "      <th>1991</th>\n",
       "      <td>1992</td>\n",
       "      <td>Christopher Alexander</td>\n",
       "      <td>446.885228</td>\n",
       "    </tr>\n",
       "    <tr>\n",
       "      <th>1992</th>\n",
       "      <td>1993</td>\n",
       "      <td>Harry Bell</td>\n",
       "      <td>228.261376</td>\n",
       "    </tr>\n",
       "    <tr>\n",
       "      <th>1993</th>\n",
       "      <td>1994</td>\n",
       "      <td>Barbara Cooper</td>\n",
       "      <td>470.833374</td>\n",
       "    </tr>\n",
       "    <tr>\n",
       "      <th>1994</th>\n",
       "      <td>1995</td>\n",
       "      <td>Stephen Ripple</td>\n",
       "      <td>708.824584</td>\n",
       "    </tr>\n",
       "    <tr>\n",
       "      <th>1995</th>\n",
       "      <td>1996</td>\n",
       "      <td>Ethel Cook</td>\n",
       "      <td>113.142360</td>\n",
       "    </tr>\n",
       "    <tr>\n",
       "      <th>1996</th>\n",
       "      <td>1997</td>\n",
       "      <td>Anna Bond</td>\n",
       "      <td>488.715483</td>\n",
       "    </tr>\n",
       "    <tr>\n",
       "      <th>1997</th>\n",
       "      <td>1998</td>\n",
       "      <td>Michael Davis</td>\n",
       "      <td>507.552801</td>\n",
       "    </tr>\n",
       "    <tr>\n",
       "      <th>1998</th>\n",
       "      <td>1999</td>\n",
       "      <td>John Figueroa</td>\n",
       "      <td>969.152209</td>\n",
       "    </tr>\n",
       "    <tr>\n",
       "      <th>1999</th>\n",
       "      <td>2000</td>\n",
       "      <td>Everett Hinojosa</td>\n",
       "      <td>151.388485</td>\n",
       "    </tr>\n",
       "  </tbody>\n",
       "</table>\n",
       "<p>2000 rows × 3 columns</p>\n",
       "</div>"
      ],
      "text/plain": [
       "        id                   name       score\n",
       "0        1           Jodie Alford  724.395246\n",
       "1        2            Maria Haigh  384.156556\n",
       "2        3         Jean Alexander  292.088023\n",
       "3        4             Ruth Simon  298.928908\n",
       "4        5             Ray Keeler  153.355112\n",
       "5        6  Georgette Chamberlain  720.732781\n",
       "6        7         Kenneth Norton  357.886350\n",
       "7        8       Dustin Crosswell  279.583971\n",
       "8        9           Lloyd Brooks  918.383095\n",
       "9       10           Kevin Wright  984.992103\n",
       "10      11        Michelle Espino  111.833091\n",
       "11      12      Joanna Washington  347.818157\n",
       "12      13            April Toner   27.985479\n",
       "13      14          John Lundberg  869.926339\n",
       "14      15           Clora Phipps  582.578402\n",
       "15      16          Maud Mccollum  945.410517\n",
       "16      17          Robert Murphy   80.590353\n",
       "17      18           Otis Johnson  736.756296\n",
       "18      19          Richard Guzma  223.704312\n",
       "19      20          Sandra Bishop  832.180889\n",
       "20      21           Shannon Metz  105.333642\n",
       "21      22     Alicia Heidebrecht  865.320052\n",
       "22      23           Madge Rhodes  380.015643\n",
       "23      24         Ruth Nathaniel  366.256366\n",
       "24      25        Catherine Swing  450.889877\n",
       "25      26     Lawrence Neighbors  495.060465\n",
       "26      27           Marta Blaine  263.532592\n",
       "27      28           Sharon Boyle  843.475878\n",
       "28      29        Larry Firestine  879.662561\n",
       "29      30        Travis Villiard  148.098596\n",
       "...    ...                    ...         ...\n",
       "1970  1971           Evelyn Platt  844.687840\n",
       "1971  1972           Kristi Gomes  784.818506\n",
       "1972  1973           Robert Stone  714.422414\n",
       "1973  1974           Jana Bradley  540.795256\n",
       "1974  1975             Carol Kemp  737.830272\n",
       "1975  1976      Barbara Livermore  592.041881\n",
       "1976  1977               Kay Cook  273.931056\n",
       "1977  1978          Dale Williams  857.434289\n",
       "1978  1979           Vivian Varos  566.197173\n",
       "1979  1980        Michael Denning  422.083686\n",
       "1980  1981           Billy Rogers  280.371750\n",
       "1981  1982         Wendy Figueroa  272.899596\n",
       "1982  1983          Helen Mancuso   89.268067\n",
       "1983  1984         Joseph Parsons  302.820890\n",
       "1984  1985           Sarah Larsen  797.903929\n",
       "1985  1986        Hubert Rothwell  421.032951\n",
       "1986  1987          Joseph Austin  106.629780\n",
       "1987  1988          Michael Keene  931.553767\n",
       "1988  1989         Mary Cervantez  918.706554\n",
       "1989  1990            Laura Clark  576.675038\n",
       "1990  1991         Robert Mullane  530.295061\n",
       "1991  1992  Christopher Alexander  446.885228\n",
       "1992  1993             Harry Bell  228.261376\n",
       "1993  1994         Barbara Cooper  470.833374\n",
       "1994  1995         Stephen Ripple  708.824584\n",
       "1995  1996             Ethel Cook  113.142360\n",
       "1996  1997              Anna Bond  488.715483\n",
       "1997  1998          Michael Davis  507.552801\n",
       "1998  1999          John Figueroa  969.152209\n",
       "1999  2000       Everett Hinojosa  151.388485\n",
       "\n",
       "[2000 rows x 3 columns]"
      ]
     },
     "execution_count": 4,
     "metadata": {},
     "output_type": "execute_result"
    }
   ],
   "source": [
    "df"
   ]
  },
  {
   "cell_type": "markdown",
   "metadata": {},
   "source": [
    "# Fim"
   ]
  },
  {
   "cell_type": "markdown",
   "metadata": {},
   "source": [
    "### Obrigado - Data Science Academy - <a href=\"http://facebook.com/dsacademybr\">facebook.com/dsacademybr</a>"
   ]
  }
 ],
 "metadata": {
  "kernelspec": {
   "display_name": "Python 3",
   "language": "python",
   "name": "python3"
  },
  "language_info": {
   "codemirror_mode": {
    "name": "ipython",
    "version": 3
   },
   "file_extension": ".py",
   "mimetype": "text/x-python",
   "name": "python",
   "nbconvert_exporter": "python",
   "pygments_lexer": "ipython3",
   "version": "3.7.1"
  }
 },
 "nbformat": 4,
 "nbformat_minor": 1
}
